{
 "cells": [
  {
   "cell_type": "code",
   "execution_count": 1,
   "id": "ab9ebb95",
   "metadata": {},
   "outputs": [],
   "source": [
    "import numpy as np\n",
    "import pandas as pd\n",
    "import tensorflow as tf\n",
    "from tensorflow import keras\n",
    "from sklearn.model_selection import train_test_split\n",
    "import matplotlib.pyplot as plt\n",
    "import statsmodels.api as sm\n",
    "import sklearn\n",
    "import itertools\n",
    "import random"
   ]
  },
  {
   "cell_type": "code",
   "execution_count": 2,
   "id": "21cacfb1",
   "metadata": {},
   "outputs": [],
   "source": [
    "# A function that loads data\n",
    "def get_data(test_fold_id, val_fold_id):\n",
    "    test_fold = str(test_fold_id)\n",
    "    val_fold = str(val_fold_id)\n",
    "    train_fold = [str(i) for i in range(1,6) if i != test_fold_id and i != val_fold_id]\n",
    "    x_test = np.load(\"ECG_Signals/Fold_\" + test_fold + \"/Signals.npy\")\n",
    "    y_test = np.load(\"ECG_Signals/Fold_\" + test_fold + \"/Labels.npy\")\n",
    "    x_val = np.load(\"ECG_Signals/Fold_\" + val_fold + \"/Signals.npy\")\n",
    "    y_val = np.load(\"ECG_Signals/Fold_\" + val_fold + \"/Labels.npy\")\n",
    "    x_train = np.concatenate([np.load(\"ECG_Signals/Fold_\" + i + \"/Signals.npy\") for i in train_fold], axis=0)\n",
    "    y_train = np.concatenate([np.load(\"ECG_Signals/Fold_\" + i + \"/Labels.npy\") for i in train_fold], axis=0)\n",
    "    return x_train, y_train, x_val, y_val, x_test, y_test"
   ]
  },
  {
   "cell_type": "code",
   "execution_count": 3,
   "id": "03c5de0d",
   "metadata": {},
   "outputs": [],
   "source": [
    "# Oversample the minority class by random sampling with replacement\n",
    "def oversample(x_train, y_train):\n",
    "    classes, counts = np.unique(y_train, return_counts=True)\n",
    "    max_count = np.max(counts)\n",
    "    for i in range(len(classes)):\n",
    "        c = classes[i]\n",
    "        count = counts[i]\n",
    "        diff = max_count - count\n",
    "        c_data = x_train[y_train==c]\n",
    "        upsample_data = sklearn.utils.resample(c_data, replace=True, n_samples=diff, random_state=123)\n",
    "        x_train = np.concatenate([x_train, upsample_data], axis=0)\n",
    "        y_train = np.concatenate([y_train, np.full((diff,), c)])\n",
    "\n",
    "    idx = np.arange(len(y_train))\n",
    "    np.random.seed(100)\n",
    "    np.random.shuffle(idx)\n",
    "    np.random.shuffle(idx)\n",
    "    x_train = x_train[idx]\n",
    "    y_train = y_train[idx]\n",
    "    \n",
    "    return x_train, y_train"
   ]
  },
  {
   "cell_type": "code",
   "execution_count": 4,
   "id": "1b5cd971",
   "metadata": {},
   "outputs": [],
   "source": [
    "x_train, y_train, x_val, y_val, x_test, y_test = get_data(1, 2)"
   ]
  },
  {
   "cell_type": "code",
   "execution_count": 5,
   "id": "c89848fe",
   "metadata": {},
   "outputs": [],
   "source": [
    "# COVID vs. Others\n",
    "y_test[y_test!=1] = 0\n",
    "y_val[y_val!=1] = 0\n",
    "y_train[y_train!=1] = 0"
   ]
  },
  {
   "cell_type": "code",
   "execution_count": 6,
   "id": "8d20170a",
   "metadata": {},
   "outputs": [],
   "source": [
    "# Oversample the training set\n",
    "x_train, y_train = oversample(x_train, y_train)"
   ]
  },
  {
   "cell_type": "code",
   "execution_count": 7,
   "id": "e90d2329",
   "metadata": {},
   "outputs": [
    {
     "data": {
      "text/plain": [
       "(array([0., 1.]), array([915, 915]))"
      ]
     },
     "execution_count": 7,
     "metadata": {},
     "output_type": "execute_result"
    }
   ],
   "source": [
    "# Check if the traning set is balanced\n",
    "np.unique(y_train, return_counts=True)"
   ]
  },
  {
   "cell_type": "code",
   "execution_count": 8,
   "id": "ba01de6e",
   "metadata": {},
   "outputs": [],
   "source": [
    "# A function that builds an FCN\n",
    "def build_FCN(num_classes, input_shape, filters=[64, 128, 64]):\n",
    "    input_layer = keras.layers.Input(input_shape)\n",
    "\n",
    "    conv1 = keras.layers.Conv1D(filters=filters[0], kernel_size=8, padding=\"same\")(input_layer)\n",
    "    conv1 = keras.layers.BatchNormalization()(conv1)\n",
    "    conv1 = keras.layers.ReLU()(conv1)\n",
    "\n",
    "    conv2 = keras.layers.Conv1D(filters=filters[1], kernel_size=5, padding=\"same\")(conv1)\n",
    "    conv2 = keras.layers.BatchNormalization()(conv2)\n",
    "    conv2 = keras.layers.ReLU()(conv2)\n",
    "\n",
    "    conv3 = keras.layers.Conv1D(filters=filters[2], kernel_size=3, padding=\"same\")(conv2)\n",
    "    conv3 = keras.layers.BatchNormalization()(conv3)\n",
    "    conv3 = keras.layers.ReLU()(conv3)\n",
    "\n",
    "    gap = keras.layers.GlobalAveragePooling1D()(conv3)\n",
    "\n",
    "    output_layer = keras.layers.Dense(num_classes, activation=\"softmax\")(gap)\n",
    "\n",
    "    return keras.models.Model(inputs=input_layer, outputs=output_layer)"
   ]
  },
  {
   "cell_type": "code",
   "execution_count": 9,
   "id": "0d3a9ae8",
   "metadata": {},
   "outputs": [],
   "source": [
    "# Builds an FCN\n",
    "fcn = build_FCN(2, input_shape=x_train.shape[1:])"
   ]
  },
  {
   "cell_type": "code",
   "execution_count": null,
   "id": "5772a705",
   "metadata": {},
   "outputs": [],
   "source": [
    "epochs = 500\n",
    "batch_size = 32\n",
    "\n",
    "callbacks = [\n",
    "    keras.callbacks.ModelCheckpoint(\n",
    "        \"ECG_Models/covid_others/best_models/fcn_121.h5\", save_best_only=True, monitor=\"val_sparse_categorical_accuracy\"\n",
    "    ),\n",
    "    keras.callbacks.ReduceLROnPlateau(\n",
    "        monitor=\"val_sparse_categorical_accuracy\", factor=0.2, patience=5, min_lr=1e-8\n",
    "    ),\n",
    "    keras.callbacks.EarlyStopping(monitor=\"val_sparse_categorical_accuracy\", patience=20, verbose=1\n",
    "    ),\n",
    "    keras.callbacks.CSVLogger(\"ECG_Models/covid_others/history/fcn_121.csv\", separator=\",\", append=True)\n",
    "]\n",
    "fcn.compile(\n",
    "    optimizer=keras.optimizers.legacy.Adam(learning_rate=0.001),\n",
    "    loss=\"sparse_categorical_crossentropy\",\n",
    "    metrics=[\"sparse_categorical_accuracy\"],\n",
    ")\n",
    "\n",
    "history_fcn = fcn.fit(\n",
    "    x_train,\n",
    "    y_train,\n",
    "    validation_data=(x_val, y_val),\n",
    "    batch_size=batch_size,\n",
    "    epochs=epochs,\n",
    "    callbacks=callbacks,\n",
    "    verbose=1,\n",
    ")"
   ]
  },
  {
   "cell_type": "code",
   "execution_count": 10,
   "id": "70801740",
   "metadata": {},
   "outputs": [
    {
     "name": "stdout",
     "output_type": "stream",
     "text": [
      "11/11 [==============================] - 0s 9ms/step - loss: 0.0977 - sparse_categorical_accuracy: 0.9858\n"
     ]
    }
   ],
   "source": [
    "# Load the best FCN model\n",
    "best_fcn = keras.models.load_model(\"ECG_Models/covid_others/best_models/fcn_121.h5\")\n",
    "# Evaluate the model on test set\n",
    "test_loss, test_acc = best_fcn.evaluate(x_test, y_test)"
   ]
  },
  {
   "cell_type": "code",
   "execution_count": 11,
   "id": "0bd4d98c",
   "metadata": {},
   "outputs": [
    {
     "data": {
      "image/png": "[encoded data removed]",
      "text/plain": [
       "<Figure size 640x480 with 1 Axes>"
      ]
     },
     "metadata": {},
     "output_type": "display_data"
    }
   ],
   "source": [
    "# Plot the sparse categorical accuracy\n",
    "history = pd.read_csv(\"ECG_Models/covid_others/history/fcn_121.csv\")\n",
    "metric = \"sparse_categorical_accuracy\"\n",
    "plt.figure()\n",
    "plt.plot(history[metric])\n",
    "plt.plot(history[\"val_\" + metric])\n",
    "plt.axhline(y = 1, color = 'black', linestyle = 'dashed')\n",
    "plt.title(\"FCN categorical accuracy\")\n",
    "plt.ylabel(\"Categorical accuracy\", fontsize=\"large\")\n",
    "plt.xlabel(\"epoch\", fontsize=\"large\")\n",
    "plt.legend([\"train\", \"val\"], loc=\"best\")\n",
    "plt.show()\n",
    "plt.close()"
   ]
  },
  {
   "cell_type": "code",
   "execution_count": 12,
   "id": "fa963ef9",
   "metadata": {},
   "outputs": [],
   "source": [
    "# A function that plots confusion matrix\n",
    "def plot_confusion_matrix(cm, classes,\n",
    "                          title='Confusion matrix',\n",
    "                          cmap=plt.cm.Blues):\n",
    "\n",
    "    plt.imshow(cm, interpolation='nearest', cmap=cmap)\n",
    "    plt.title(title)\n",
    "    plt.colorbar()\n",
    "    tick_marks = np.arange(len(classes))\n",
    "    plt.xticks(tick_marks, classes, rotation=45)\n",
    "    plt.yticks(tick_marks, classes)\n",
    "    thresh = cm.max() / 2.\n",
    "    for i, j in itertools.product(range(cm.shape[0]), range(cm.shape[1])):\n",
    "        plt.text(j, i, cm[i, j],\n",
    "                 horizontalalignment=\"center\",\n",
    "                 color=\"white\" if cm[i, j] > thresh else \"black\")\n",
    "\n",
    "    plt.tight_layout()\n",
    "    plt.ylabel('True label')\n",
    "    plt.xlabel('Predicted label')"
   ]
  },
  {
   "cell_type": "code",
   "execution_count": 13,
   "id": "466f3187",
   "metadata": {},
   "outputs": [
    {
     "name": "stdout",
     "output_type": "stream",
     "text": [
      "11/11 [==============================] - 0s 6ms/step\n"
     ]
    },
    {
     "data": {
      "image/png": "[encoded data removed]",
      "text/plain": [
       "<Figure size 640x480 with 2 Axes>"
      ]
     },
     "metadata": {},
     "output_type": "display_data"
    }
   ],
   "source": [
    "# Class prediction overall\n",
    "y_pred = tf.argmax(best_fcn.predict(x_test), axis=-1)\n",
    "# Compute confusion matrix\n",
    "cnf_matrix = sklearn.metrics.confusion_matrix(y_test, y_pred)\n",
    "np.set_printoptions(precision=2)\n",
    "\n",
    "# Plot non-normalized confusion matrix\n",
    "plt.figure()\n",
    "plot_confusion_matrix(cnf_matrix, classes=['COVID', 'Others'],title='Normalize Confusion matrix')"
   ]
  },
  {
   "cell_type": "code",
   "execution_count": 14,
   "id": "9feebf28",
   "metadata": {},
   "outputs": [],
   "source": [
    "# A function that builds a residual block\n",
    "def ResidualBlock(inputs, filters, kernel_sizes):\n",
    "    conv_x = keras.layers.Conv1D(filters=filters, kernel_size=kernel_sizes[0], padding='same')(inputs)\n",
    "    conv_x = keras.layers.BatchNormalization()(conv_x)\n",
    "    conv_x = keras.layers.Activation('relu')(conv_x)\n",
    "\n",
    "    conv_y = keras.layers.Conv1D(filters=filters, kernel_size=kernel_sizes[1], padding='same')(conv_x)\n",
    "    conv_y = keras.layers.BatchNormalization()(conv_y)\n",
    "    conv_y = keras.layers.Activation('relu')(conv_y)\n",
    "\n",
    "    conv_z = keras.layers.Conv1D(filters=filters, kernel_size=kernel_sizes[2], padding='same')(conv_y)\n",
    "    conv_z = keras.layers.BatchNormalization()(conv_z)\n",
    "\n",
    "    # expand channels for the sum\n",
    "    shortcut = keras.layers.Conv1D(filters=filters, kernel_size=1, padding='same')(inputs)\n",
    "    shortcut = keras.layers.BatchNormalization()(shortcut)\n",
    "\n",
    "    outputs = keras.layers.Add()([shortcut, conv_z])  # shortcut connection\n",
    "    outputs = keras.layers.Activation('relu')(outputs)\n",
    "    return outputs\n",
    "\n",
    "# A function that builds a ResNet\n",
    "def build_ResNet(num_classes, input_shape):\n",
    "    input_layer = keras.layers.Input(input_shape)\n",
    "    h = keras.layers.BatchNormalization()(input_layer)\n",
    "    h = ResidualBlock(h, filters=32, kernel_sizes=[8, 5, 3])\n",
    "    h = ResidualBlock(h, filters=64, kernel_sizes=[8, 5, 3])\n",
    "    h = ResidualBlock(h, filters=64, kernel_sizes=[8, 5, 3])\n",
    "    gap = keras.layers.GlobalAveragePooling1D()(h)\n",
    "    output_layer = keras.layers.Dense(num_classes, activation='softmax')(gap)\n",
    "    return keras.models.Model(inputs=input_layer, outputs=output_layer)"
   ]
  },
  {
   "cell_type": "code",
   "execution_count": 15,
   "id": "81cfb2cd",
   "metadata": {},
   "outputs": [],
   "source": [
    "# Build a ResNet model\n",
    "resnet = build_ResNet(2, input_shape=x_train.shape[1:])"
   ]
  },
  {
   "cell_type": "code",
   "execution_count": null,
   "id": "359b0f69",
   "metadata": {},
   "outputs": [],
   "source": [
    "epochs = 500\n",
    "batch_size = 32\n",
    "\n",
    "callbacks = [\n",
    "    keras.callbacks.ModelCheckpoint(\n",
    "        \"ECG_Models/test/best_models/resnet_121.h5\", save_best_only=True, monitor=\"val_sparse_categorical_accuracy\"\n",
    "    ),\n",
    "    keras.callbacks.ReduceLROnPlateau(\n",
    "        monitor=\"val_sparse_categorical_accuracy\", factor=0.2, patience=5, min_lr=1e-8\n",
    "    ),\n",
    "    keras.callbacks.EarlyStopping(monitor=\"val_sparse_categorical_accuracy\", patience=20, verbose=1\n",
    "    ),\n",
    "    keras.callbacks.CSVLogger(\"ECG_Models/covid_normal/history/resnet_121.csv\", separator=\",\", append=True)\n",
    "]\n",
    "\n",
    "resnet.compile(\n",
    "    optimizer=keras.optimizers.legacy.Adam(learning_rate=0.001),\n",
    "    loss=\"sparse_categorical_crossentropy\",\n",
    "    metrics=[\"sparse_categorical_accuracy\"],\n",
    ")\n",
    "\n",
    "history_resnet = resnet.fit(\n",
    "    x_train,\n",
    "    y_train,\n",
    "    validation_data=(x_val, y_val),\n",
    "    batch_size=batch_size,\n",
    "    epochs=epochs,\n",
    "    callbacks=callbacks,\n",
    "    verbose=1,\n",
    ")"
   ]
  },
  {
   "cell_type": "code",
   "execution_count": 16,
   "id": "fa6af96f",
   "metadata": {},
   "outputs": [
    {
     "name": "stdout",
     "output_type": "stream",
     "text": [
      "11/11 [==============================] - 0s 16ms/step - loss: 0.1115 - sparse_categorical_accuracy: 0.9858\n"
     ]
    }
   ],
   "source": [
    "best_resnet = keras.models.load_model(\"ECG_Models/covid_others/best_models/resnet_121.h5\")\n",
    "\n",
    "test_loss, test_acc = best_resnet.evaluate(x_test, y_test)"
   ]
  },
  {
   "cell_type": "code",
   "execution_count": 17,
   "id": "fe4392e3",
   "metadata": {},
   "outputs": [
    {
     "data": {
      "image/png": "[encoded data removed]",
      "text/plain": [
       "<Figure size 640x480 with 1 Axes>"
      ]
     },
     "metadata": {},
     "output_type": "display_data"
    }
   ],
   "source": [
    "# Plot the sparse categorical accuracy\n",
    "history = pd.read_csv(\"ECG_Models/covid_others/history/resnet_121.csv\")\n",
    "metric = \"sparse_categorical_accuracy\"\n",
    "plt.figure()\n",
    "plt.plot(history[metric])\n",
    "plt.plot(history[\"val_\" + metric])\n",
    "plt.axhline(y = 1, color = 'black', linestyle = 'dashed')\n",
    "plt.title(\"ResNet categorical accuracy\")\n",
    "plt.ylabel(\"Categorical accuracy\", fontsize=\"large\")\n",
    "plt.xlabel(\"epoch\", fontsize=\"large\")\n",
    "plt.legend([\"train\", \"val\"], loc=\"best\")\n",
    "plt.show()\n",
    "plt.close()"
   ]
  },
  {
   "cell_type": "code",
   "execution_count": 18,
   "id": "140dd345",
   "metadata": {},
   "outputs": [
    {
     "name": "stdout",
     "output_type": "stream",
     "text": [
      "11/11 [==============================] - 0s 15ms/step\n"
     ]
    },
    {
     "data": {
      "image/png": "[encoded data removed]",
      "text/plain": [
       "<Figure size 640x480 with 2 Axes>"
      ]
     },
     "metadata": {},
     "output_type": "display_data"
    }
   ],
   "source": [
    "# Class prediction overall\n",
    "y_pred = tf.argmax(best_resnet.predict(x_test), axis=-1)\n",
    "# Compute confusion matrix\n",
    "cnf_matrix = sklearn.metrics.confusion_matrix(y_test, y_pred)\n",
    "np.set_printoptions(precision=2)\n",
    "\n",
    "# Plot non-normalized confusion matrix\n",
    "plt.figure()\n",
    "plot_confusion_matrix(cnf_matrix, classes=['COVID', 'Others'],title='Normalize Confusion matrix')"
   ]
  },
  {
   "cell_type": "code",
   "execution_count": 19,
   "id": "d6ef3f98",
   "metadata": {},
   "outputs": [],
   "source": [
    "# A function that builds a ResCNN\n",
    "def build_ResCNN(num_classes, input_shape):\n",
    "    input_layer = keras.layers.Input(input_shape)\n",
    "    h = ResidualBlock(input_layer, filters=64, kernel_sizes=[8, 5, 3])\n",
    "    h = keras.layers.Conv1D(filters=64, kernel_size=8, padding='same')(h)\n",
    "    h = keras.layers.BatchNormalization()(h)\n",
    "    h = tf.keras.layers.LeakyReLU()(h)\n",
    "    h = keras.layers.Conv1D(filters=128, kernel_size=5, padding='same')(h)\n",
    "    h = keras.layers.BatchNormalization()(h)\n",
    "    h = tf.keras.layers.PReLU()(h)\n",
    "    h = keras.layers.Conv1D(filters=64, kernel_size=8, padding='same')(h)\n",
    "    h = keras.layers.BatchNormalization()(h)\n",
    "    h = tf.keras.layers.ELU()(h)\n",
    "    gap = keras.layers.GlobalAveragePooling1D()(h)\n",
    "    output_layer = keras.layers.Dense(num_classes, activation='softmax')(gap)\n",
    "    return keras.models.Model(inputs=input_layer, outputs=output_layer)"
   ]
  },
  {
   "cell_type": "code",
   "execution_count": 20,
   "id": "59e439fa",
   "metadata": {},
   "outputs": [],
   "source": [
    "rescnn = build_ResCNN(2, input_shape=x_train.shape[1:])"
   ]
  },
  {
   "cell_type": "code",
   "execution_count": 21,
   "id": "80280e0c",
   "metadata": {},
   "outputs": [],
   "source": [
    "# A function that builds an Inception module given input layer, number of filters, list of kernel sizes, bottleneck size\n",
    "def InceptionModule(inputs, num_filters, kernel_sizes, bottleneck_size):\n",
    "    if bottleneck_size != None and inputs.shape[-1] > bottleneck_size:\n",
    "        # bottleneck layer\n",
    "        reduced = keras.layers.Conv1D(filters=bottleneck_size, kernel_size=1,\n",
    "                                       padding='same', use_bias=False)(inputs)\n",
    "    else:\n",
    "        reduced = inputs\n",
    "        \n",
    "    conv_list = []\n",
    "    for i in range(len(kernel_sizes)):\n",
    "        conv_list.append(keras.layers.Conv1D(filters=num_filters, kernel_size=kernel_sizes[i],\n",
    "                                             strides=1, padding='same', use_bias=False)(reduced))\n",
    "    \n",
    "    max_pool_0 = keras.layers.MaxPool1D(pool_size=3, strides=1, padding='same')(inputs)\n",
    "    conv_0 = keras.layers.Conv1D(filters=num_filters, kernel_size=1, padding='same', use_bias=False)(max_pool_0) \n",
    "    conv_list.append(conv_0)\n",
    "    \n",
    "    h = keras.layers.Concatenate(axis=2)(conv_list)\n",
    "    h = keras.layers.BatchNormalization()(h)\n",
    "    h = keras.layers.Activation(activation='relu')(h)\n",
    "    return h\n",
    "\n",
    "# A function that builds an Inception block\n",
    "def InceptionBlock(inputs, num_filters, kernel_sizes, bottleneck_size):\n",
    "    h = inputs\n",
    "    for i in range(3):\n",
    "        h = InceptionModule(h, num_filters, kernel_sizes, bottleneck_size)\n",
    "    \n",
    "    shortcut_h = keras.layers.Conv1D(filters=h.shape[-1], kernel_size=1, padding='same', use_bias=False)(inputs)\n",
    "    shortcut_h = keras.layers.BatchNormalization()(shortcut_h)\n",
    "    outputs = keras.layers.Add()([shortcut_h, h])\n",
    "    outputs = keras.layers.Activation('relu')(outputs)\n",
    "\n",
    "    return outputs\n",
    "\n",
    "# A function that builds an Inception network\n",
    "def InceptionNetwork(num_classes, input_shape, num_filters=32, kernel_sizes=[40, 20, 10], bottleneck_size=32):\n",
    "    input_layer = keras.layers.Input(input_shape)\n",
    "    h = InceptionBlock(input_layer, num_filters, kernel_sizes, bottleneck_size)\n",
    "    h = InceptionBlock(h, num_filters, kernel_sizes, bottleneck_size)\n",
    "    gap_layer = keras.layers.GlobalAveragePooling1D()(h)\n",
    "    output_layer = keras.layers.Dense(num_classes, activation='softmax')(gap_layer)\n",
    "    return keras.models.Model(inputs=input_layer, outputs=output_layer)"
   ]
  },
  {
   "cell_type": "code",
   "execution_count": 22,
   "id": "7e7b12b9",
   "metadata": {},
   "outputs": [],
   "source": [
    "inception = InceptionNetwork(2, x_train.shape[1:])"
   ]
  },
  {
   "cell_type": "code",
   "execution_count": 23,
   "id": "e91085ff",
   "metadata": {},
   "outputs": [],
   "source": [
    "# Expand input dimension to feed into 2D CNN model\n",
    "x_train = x_train[...,tf.newaxis]\n",
    "x_val = x_val[...,tf.newaxis]\n",
    "x_test = x_test[...,tf.newaxis]"
   ]
  },
  {
   "cell_type": "code",
   "execution_count": 24,
   "id": "fa4c8ad3",
   "metadata": {},
   "outputs": [],
   "source": [
    "def build_Time2D(num_classes, input_shape):\n",
    "    input_layer = keras.layers.Input(input_shape, name=\"Input_Layer\")\n",
    "        \n",
    "    conv_list = []\n",
    "    conv1 = keras.layers.Conv2D(filters=64, kernel_size=(40,1), padding=\"same\", name=\"Module1_Conv1\")(input_layer)\n",
    "    conv_list.append(conv1)\n",
    "    \n",
    "    conv2 = keras.layers.Conv2D(filters=64, kernel_size=(20,1), padding=\"same\", name=\"Module1_Conv2\")(input_layer)\n",
    "    conv_list.append(conv2)\n",
    "    \n",
    "    conv3 = keras.layers.Conv2D(filters=64, kernel_size=(10,1), padding=\"same\", name=\"Module1_Conv3\")(input_layer)\n",
    "    conv_list.append(conv3)\n",
    "    \n",
    "    concat = keras.layers.Concatenate(axis=3, name=\"Module1_Concat\")(conv_list)\n",
    "    h = keras.layers.BatchNormalization(name=\"Module1_BN\")(concat)\n",
    "    h = keras.layers.Activation(activation='relu', name=\"Module1_ReLU\")(h)\n",
    "    h = keras.layers.Conv2D(filters=32, kernel_size=(1,1), padding='same', name=\"Bottleneck1\")(h)\n",
    "    \n",
    "    conv_list2 = []\n",
    "    conv4 = keras.layers.Conv2D(filters=64, kernel_size=(40,1), padding=\"same\", name=\"Module2_Conv1\")(h)\n",
    "    conv_list2.append(conv4)\n",
    "    \n",
    "    conv5 = keras.layers.Conv2D(filters=64, kernel_size=(20,1), padding=\"same\", name=\"Module2_Conv2\")(h)\n",
    "    conv_list2.append(conv5)\n",
    "    \n",
    "    conv6 = keras.layers.Conv2D(filters=64, kernel_size=(10,1), padding=\"same\", name=\"Module2_Conv3\")(h)\n",
    "    conv_list2.append(conv6)\n",
    "    \n",
    "    concat2 = keras.layers.Concatenate(axis=3, name=\"Module2_Concat\")(conv_list2)\n",
    "    h = keras.layers.BatchNormalization(name=\"Module2_BN\")(concat2)\n",
    "    h = keras.layers.Activation(activation='relu', name=\"Module2_ReLU\")(h)    \n",
    "    h = keras.layers.Conv2D(filters=32, kernel_size=(1,1), padding='same', name=\"Bottleneck2\")(h)\n",
    "    \n",
    "    conv_list3 = []\n",
    "    conv7 = keras.layers.Conv2D(filters=64, kernel_size=(40,1), padding=\"same\", name=\"Module3_Conv1\")(h)\n",
    "    conv_list3.append(conv7)\n",
    "    \n",
    "    conv8 = keras.layers.Conv2D(filters=64, kernel_size=(20,1), padding=\"same\", name=\"Module3_Conv2\")(h)\n",
    "    conv_list3.append(conv8)\n",
    "    \n",
    "    conv9 = keras.layers.Conv2D(filters=64, kernel_size=(10,1), padding=\"same\", name=\"Module3_Conv3\")(h)\n",
    "    conv_list3.append(conv9)\n",
    "    \n",
    "    concat3 = keras.layers.Concatenate(axis=3, name=\"Module3_Concat\")(conv_list3)\n",
    "    h = keras.layers.BatchNormalization(name=\"Module3_BN\")(concat3)\n",
    "    h = keras.layers.Activation(activation='relu', name=\"Module3_ReLU\")(h)\n",
    "    \n",
    "    pooling = keras.layers.AveragePooling2D((400, 1), name=\"AvgPool\")(h)\n",
    "    flatten = keras.layers.Flatten(name=\"Flatten\")(pooling)\n",
    "    output_layer = keras.layers.Dense(num_classes, activation=\"softmax\", name=\"Prediction\")(flatten)\n",
    "\n",
    "    return keras.models.Model(inputs=input_layer, outputs=output_layer)"
   ]
  },
  {
   "cell_type": "code",
   "execution_count": 25,
   "id": "732baedd",
   "metadata": {},
   "outputs": [],
   "source": [
    "time2D = build_Time2D(2, x_train.shape[1:])"
   ]
  },
  {
   "cell_type": "code",
   "execution_count": 26,
   "id": "6cf9d6c4",
   "metadata": {},
   "outputs": [],
   "source": [
    "# Load and prepare test data\n",
    "def get_test_data(test_fold, problem):\n",
    "    x_test = np.load(\"ECG_Signals/Fold_\" + str(test_fold) + \"/Signals.npy\")\n",
    "    y_test = np.load(\"ECG_Signals/Fold_\" + str(test_fold) + \"/Labels.npy\")\n",
    "    if problem == \"3_classes\":\n",
    "        y_test[y_test>1] = 2\n",
    "    elif problem == \"covid_others\":\n",
    "        y_test[y_test!=1] = 0\n",
    "    elif problem == \"covid_normal\":\n",
    "        x_test = x_test[y_test<=1]\n",
    "        y_test = y_test[y_test<=1]\n",
    "    return x_test, y_test"
   ]
  },
  {
   "cell_type": "code",
   "execution_count": 27,
   "id": "4ac1fddb",
   "metadata": {},
   "outputs": [
    {
     "name": "stdout",
     "output_type": "stream",
     "text": [
      "1 2\n",
      "11/11 [==============================] - 1s 17ms/step\n",
      "11/11 [==============================] - 0s 18ms/step\n",
      "11/11 [==============================] - 0s 15ms/step\n",
      "11/11 [==============================] - 0s 18ms/step\n",
      "11/11 [==============================] - 1s 22ms/step\n",
      "2 3\n",
      "11/11 [==============================] - 0s 8ms/step\n",
      "11/11 [==============================] - 0s 9ms/step\n",
      "11/11 [==============================] - 0s 9ms/step\n",
      "11/11 [==============================] - 0s 8ms/step\n",
      "11/11 [==============================] - 0s 9ms/step\n",
      "3 4\n",
      "12/12 [==============================] - 1s 24ms/step\n",
      "12/12 [==============================] - 0s 16ms/step\n",
      "12/12 [==============================] - 1s 20ms/step\n",
      "12/12 [==============================] - 1s 21ms/step\n",
      "12/12 [==============================] - 1s 18ms/step\n",
      "4 5\n",
      "12/12 [==============================] - 1s 23ms/step\n",
      "12/12 [==============================] - 1s 17ms/step\n",
      "12/12 [==============================] - 1s 20ms/step\n",
      "12/12 [==============================] - 1s 19ms/step\n",
      "12/12 [==============================] - 1s 23ms/step\n",
      "5 1\n",
      "12/12 [==============================] - 1s 25ms/step\n",
      "12/12 [==============================] - 1s 26ms/step\n",
      "12/12 [==============================] - 1s 18ms/step\n",
      "12/12 [==============================] - 1s 24ms/step\n",
      "12/12 [==============================] - 1s 19ms/step\n"
     ]
    }
   ],
   "source": [
    "# Ensemble 5 networks\n",
    "def Ensemble_prediction(model, problem, x, folds):\n",
    "    prediction = 0\n",
    "    for i in range(1, 6):\n",
    "        best_model = keras.models.load_model(\"ECG_Models/\"+problem+\"/best_models/\"+model+\"_\"+str(folds)+str(i)+\".h5\")\n",
    "        prediction += best_model.predict(x)\n",
    "    prediction /= 5\n",
    "    return prediction\n",
    "\n",
    "problem = \"covid_others\"\n",
    "model = \"resnet\"\n",
    "\n",
    "acc = np.zeros((5,))  # Accuracy\n",
    "auc = np.zeros((5,))  # AUC\n",
    "sens = np.zeros((5,))  # Sensitivity\n",
    "spec = np.zeros((5,))  # Specificity\n",
    "f1score = np.zeros((5,))  # F1-Score\n",
    "\n",
    "# Calculate average performance metrics\n",
    "for i, j in [(1,2), (2,3), (3,4), (4,5), (5,1)]:\n",
    "    print(i, j)\n",
    "    x_test, y_test = get_test_data(i, problem)\n",
    "    pred_prob = Ensemble_prediction(model, problem, x_test, str(i)+str(j))\n",
    "    pred = np.argmax(pred_prob, axis=1)\n",
    "    m =  sklearn.metrics.confusion_matrix(y_test, pred)\n",
    "    acc[i-1] = sklearn.metrics.accuracy_score(y_test, pred)\n",
    "    sens[i-1] = m[0,0] / (m[0,0] + m[1,0])\n",
    "    spec[i-1] = m[1,1] / (m[1,1] + m[0,1])\n",
    "    prec = m[0,0] / (m[0,0] + m[0,1])\n",
    "    auc[i-1] = sklearn.metrics.roc_auc_score(y_test,pred_prob[:,1])\n",
    "    f1score[i-1] = 2*(prec)*sens[i-1]/(prec+sens[i-1])"
   ]
  },
  {
   "cell_type": "code",
   "execution_count": 28,
   "id": "fbbe8c92",
   "metadata": {},
   "outputs": [
    {
     "name": "stdout",
     "output_type": "stream",
     "text": [
      "acc: 98.81001913910656\n",
      "sens: 98.89354491204276\n",
      "spec: 98.33260963960052\n",
      "f1-score: 99.31291585186858\n",
      "auc: 97.83185071439497\n"
     ]
    }
   ],
   "source": [
    "print('acc:',np.mean(acc)*100)\n",
    "print('sens:',np.mean(sens)*100)\n",
    "print('spec:',np.mean(spec)*100)\n",
    "print('f1-score:',np.mean(f1score)*100)\n",
    "print('auc:',np.mean(auc)*100)"
   ]
  },
  {
   "cell_type": "code",
   "execution_count": 29,
   "id": "c5f5c283",
   "metadata": {},
   "outputs": [
    {
     "name": "stdout",
     "output_type": "stream",
     "text": [
      "1 2\n",
      "11/11 [==============================] - 1s 19ms/step\n",
      "11/11 [==============================] - 1s 23ms/step\n",
      "11/11 [==============================] - 1s 25ms/step\n",
      "11/11 [==============================] - 1s 20ms/step\n",
      "11/11 [==============================] - 1s 26ms/step\n",
      "[0.99 0.99 0.99 0.98 0.98]\n",
      "2 3\n",
      "11/11 [==============================] - 1s 10ms/step\n",
      "11/11 [==============================] - 0s 12ms/step\n",
      "11/11 [==============================] - 1s 11ms/step\n",
      "11/11 [==============================] - 1s 10ms/step\n",
      "11/11 [==============================] - 1s 9ms/step\n",
      "[0.99 0.99 0.98 0.98 0.99]\n",
      "3 4\n",
      "12/12 [==============================] - 1s 25ms/step\n",
      "12/12 [==============================] - 1s 26ms/step\n",
      "12/12 [==============================] - 1s 27ms/step\n",
      "12/12 [==============================] - 1s 24ms/step\n",
      "12/12 [==============================] - 1s 18ms/step\n",
      "[0.99 0.99 0.99 0.98 0.99]\n",
      "4 5\n",
      "12/12 [==============================] - 1s 26ms/step\n",
      "12/12 [==============================] - 1s 23ms/step\n",
      "12/12 [==============================] - 1s 23ms/step\n",
      "12/12 [==============================] - 1s 25ms/step\n",
      "12/12 [==============================] - 1s 23ms/step\n",
      "[0.98 0.98 0.97 0.98 0.98]\n",
      "5 1\n",
      "12/12 [==============================] - 1s 30ms/step\n",
      "12/12 [==============================] - 1s 26ms/step\n",
      "12/12 [==============================] - 1s 34ms/step\n",
      "12/12 [==============================] - 1s 21ms/step\n",
      "12/12 [==============================] - 1s 28ms/step\n",
      "[1.   0.97 0.99 0.98 0.99]\n",
      "Average std accuracy 0.005610458805473817\n"
     ]
    }
   ],
   "source": [
    "# Compute average standard deviation of accuracy\n",
    "problem = \"covid_others\"\n",
    "model = \"resnet\"\n",
    "std_acc = np.zeros((5,))\n",
    "for i, j in [(1,2), (2,3), (3,4), (4,5), (5,1)]:\n",
    "    print(i, j)\n",
    "    x_test, y_test = get_test_data(i, problem)\n",
    "    acc = np.zeros((5,))\n",
    "    for k in range(1, 6):\n",
    "        best_model = keras.models.load_model(\"ECG_Models/\"+problem+\"/best_models/\"+model+\"_\"+str(i)+str(j)+str(k)+\".h5\")\n",
    "        pred = best_model.predict(x_test)\n",
    "        pred = np.argmax(pred, axis=1)\n",
    "        acc[k-1] = sklearn.metrics.accuracy_score(y_test, pred)\n",
    "    print(acc)\n",
    "    std_acc[i-1] = np.std(acc)\n",
    "print(\"Average std accuracy\", np.mean(std_acc))"
   ]
  },
  {
   "cell_type": "code",
   "execution_count": null,
   "id": "d62db183",
   "metadata": {},
   "outputs": [],
   "source": []
  }
 ],
 "metadata": {
  "kernelspec": {
   "display_name": "Python 3.10 (tensorflow)",
   "language": "python",
   "name": "tensorflow"
  },
  "language_info": {
   "codemirror_mode": {
    "name": "ipython",
    "version": 3
   },
   "file_extension": ".py",
   "mimetype": "text/x-python",
   "name": "python",
   "nbconvert_exporter": "python",
   "pygments_lexer": "ipython3",
   "version": "3.10.11"
  }
 },
 "nbformat": 4,
 "nbformat_minor": 5
}
